{
  "nbformat": 4,
  "nbformat_minor": 0,
  "metadata": {
    "colab": {
      "name": "Untitled6.ipynb",
      "provenance": [],
      "authorship_tag": "ABX9TyPjgd4oqGq8f1YoLdeepgp4",
      "include_colab_link": true
    },
    "kernelspec": {
      "name": "python3",
      "display_name": "Python 3"
    },
    "language_info": {
      "name": "python"
    }
  },
  "cells": [
    {
      "cell_type": "markdown",
      "metadata": {
        "id": "view-in-github",
        "colab_type": "text"
      },
      "source": [
        "<a href=\"https://colab.research.google.com/github/sadewa0909/PCVK_Genap_2021/blob/main/Week10.ipynb\" target=\"_parent\"><img src=\"https://colab.research.google.com/assets/colab-badge.svg\" alt=\"Open In Colab\"/></a>"
      ]
    },
    {
      "cell_type": "markdown",
      "metadata": {
        "id": "gEZ1zUut7qb7"
      },
      "source": [
        "\n",
        "1. Buka https://colab.research.google.com/. Setelah dipastikan bahwa google Colab terhubung dengan Github Anda, buat notebook baru dan beri nama “Week10.ipynb”. Kemudian import folder yang ada di Drive Anda dengan cara sebagai berikutl"
      ]
    },
    {
      "cell_type": "code",
      "metadata": {
        "colab": {
          "base_uri": "https://localhost:8080/"
        },
        "id": "nY53cwoS2h6c",
        "outputId": "18792c23-803e-41e3-e219-558a94e42ad9"
      },
      "source": [
        "\n",
        "from google.colab import drive\n",
        "\n",
        "drive.mount('/content/drive', force_remount=True)"
      ],
      "execution_count": 14,
      "outputs": [
        {
          "output_type": "stream",
          "text": [
            "Mounted at /content/drive\n"
          ],
          "name": "stdout"
        }
      ]
    },
    {
      "cell_type": "markdown",
      "metadata": {
        "id": "glmMk58i9fmj"
      },
      "source": [
        "\n",
        "2. Import beberapa library berikut yang akan digunakan selama uji coba praktikum minggu ke-6 berikut."
      ]
    },
    {
      "cell_type": "code",
      "metadata": {
        "id": "2BPoM-Jm9KV6"
      },
      "source": [
        "import cv2 as cv\n",
        "import numpy as np\n",
        "from matplotlib import pyplot as plt"
      ],
      "execution_count": 15,
      "outputs": []
    },
    {
      "cell_type": "markdown",
      "metadata": {
        "id": "h_R4dLFp9sg5"
      },
      "source": [
        "\n",
        "3. Buat Global Threshold (BINARY, BINARY_INV, TRUNC, TOZERO, TOZERO_INV) secara manual sesuai dengan deskripsi dari grafik yang ditunjukkan di atas."
      ]
    },
    {
      "cell_type": "code",
      "metadata": {
        "colab": {
          "base_uri": "https://localhost:8080/",
          "height": 431
        },
        "id": "JI-8f_Zv9qIf",
        "outputId": "d7c9c537-87f5-4652-b1c3-00aeb42dffcf"
      },
      "source": [
        "#Dengan Library\n",
        "img = cv.imread('/content/drive/MyDrive/PCVK/Images/gradient.jpg',0)\n",
        "ret,thresh1 = cv.threshold(img,127,255,cv.THRESH_BINARY)\n",
        "ret,thresh2 = cv.threshold(img,127,255,cv.THRESH_BINARY_INV)\n",
        "ret,thresh3 = cv.threshold(img,127,255,cv.THRESH_TRUNC)\n",
        "ret,thresh4 = cv.threshold(img,127,255,cv.THRESH_TOZERO)\n",
        "ret,thresh5 = cv.threshold(img,127,255,cv.THRESH_TOZERO_INV)\n",
        "\n",
        "titles = ['Original Image','BINARY','BINARY_INV','TRUNC','TOZERO','TOZERO_INV']\n",
        "images = [img, thresh1, thresh2, thresh3, thresh4, thresh5]\n",
        "\n",
        "for i in range(6):\n",
        "    plt.subplot(2,3,i+1),plt.imshow(images[i],'gray',vmin=0,vmax=255)\n",
        "    plt.title(titles[i])\n",
        "    plt.xticks([]),plt.yticks([])\n",
        "\n",
        "plt.show()\n",
        "\n",
        "#Tanpa Library\n",
        "img = cv2.imread(filename) \n",
        "thresh1 = cv2.imread(filename) \n",
        "thresh2 = cv2.imread(filename) \n",
        "thresh3 = cv2.imread(filename) \n",
        "thresh4 = cv2.imread(filename) \n",
        "thresh5 = cv2.imread(filename) \n",
        "thresh = 127    #nilai Threshold yang ditentukan\n",
        "\n",
        "#1. Original Image\n",
        "thresh1[img>thresh] = 255     \n",
        "thresh1[img<=thresh] = 0\n",
        "\n",
        "#2. Binary threshold inverse \n",
        "thresh2 = 255 - thresh1            \n",
        "#3. Threshold Truncate \n",
        "thresh3[img>thresh] = thresh        \n",
        "#4. Threshold Tozero \n",
        "thresh4[img<=thresh] = 0            \n",
        "#5. Threshold Tozero Inverse \n",
        "thresh5[img>thresh] = 0        \n",
        "     \n",
        "titles = ['Original Image','BINARY','BINARY_INV','TRUNC', 'TOZERO', 'TOZERO_INV'] \n",
        "images = [img, thresh1, thresh2, thresh3, thresh4, thresh5]\n",
        "\n",
        "\n",
        "plt.figure(figsize = (15,5)) \n",
        "for i in range(len(images)):\n",
        "  plt.subplot(2,3,i+1),plt.imshow(images[i],'gray', interpolation='nearest') \n",
        "  plt.title(titles[i])\n",
        "  plt.xticks([]),plt.yticks([]) \n",
        "plt.show()"
      ],
      "execution_count": 16,
      "outputs": [
        {
          "output_type": "display_data",
          "data": {
            "image/png": "[encoded data removed]",
            "text/plain": [
              "<Figure size 432x288 with 6 Axes>"
            ]
          },
          "metadata": {
            "tags": []
          }
        },
        {
          "output_type": "error",
          "ename": "NameError",
          "evalue": "ignored",
          "traceback": [
            "\u001b[0;31m---------------------------------------------------------------------------\u001b[0m",
            "\u001b[0;31mNameError\u001b[0m                                 Traceback (most recent call last)",
            "\u001b[0;32m<ipython-input-16-ad6079bad08b>\u001b[0m in \u001b[0;36m<module>\u001b[0;34m()\u001b[0m\n\u001b[1;32m     18\u001b[0m \u001b[0;34m\u001b[0m\u001b[0m\n\u001b[1;32m     19\u001b[0m \u001b[0;31m#Tanpa Library\u001b[0m\u001b[0;34m\u001b[0m\u001b[0;34m\u001b[0m\u001b[0;34m\u001b[0m\u001b[0m\n\u001b[0;32m---> 20\u001b[0;31m \u001b[0mimg\u001b[0m \u001b[0;34m=\u001b[0m \u001b[0mcv2\u001b[0m\u001b[0;34m.\u001b[0m\u001b[0mimread\u001b[0m\u001b[0;34m(\u001b[0m\u001b[0mfilename\u001b[0m\u001b[0;34m)\u001b[0m\u001b[0;34m\u001b[0m\u001b[0;34m\u001b[0m\u001b[0m\n\u001b[0m\u001b[1;32m     21\u001b[0m \u001b[0mthresh1\u001b[0m \u001b[0;34m=\u001b[0m \u001b[0mcv2\u001b[0m\u001b[0;34m.\u001b[0m\u001b[0mimread\u001b[0m\u001b[0;34m(\u001b[0m\u001b[0mfilename\u001b[0m\u001b[0;34m)\u001b[0m\u001b[0;34m\u001b[0m\u001b[0;34m\u001b[0m\u001b[0m\n\u001b[1;32m     22\u001b[0m \u001b[0mthresh2\u001b[0m \u001b[0;34m=\u001b[0m \u001b[0mcv2\u001b[0m\u001b[0;34m.\u001b[0m\u001b[0mimread\u001b[0m\u001b[0;34m(\u001b[0m\u001b[0mfilename\u001b[0m\u001b[0;34m)\u001b[0m\u001b[0;34m\u001b[0m\u001b[0;34m\u001b[0m\u001b[0m\n",
            "\u001b[0;31mNameError\u001b[0m: name 'cv2' is not defined"
          ]
        }
      ]
    },
    {
      "cell_type": "markdown",
      "metadata": {
        "id": "KI7-nXIGCKTq"
      },
      "source": [
        "\n",
        "4. Buat Otsu Thresholding tanpa menggunakan Library. Tampilkan juga nilai threshold saat anda gunakan Otsu’s, seperti terlihat pada gambar hasil berikut. (gunakan image lena_gs_lc2.jpg agar benar2 terlihat beda antara hasil otsu’s dengan global threshold biasa)"
      ]
    },
    {
      "cell_type": "code",
      "metadata": {
        "colab": {
          "base_uri": "https://localhost:8080/",
          "height": 223
        },
        "id": "eEKN9aH2DJ_W",
        "outputId": "2bbd93b2-7edd-4bcd-b6e7-d175586e3484"
      },
      "source": [
        "filename = ('/content/drive/MyDrive/PCVK/Images/lena_gs_lc2.jpg')\n",
        "img = cv2.imread(filename,0) \n",
        "blur = cv2. GaussianBlur (img, (5,5),0)\n",
        "\n",
        "hist = cv2.calcHist([blur],[0],None,[256], [0,256]) \n",
        "hist_norm = hist.ravel()/hist.max() \n",
        "Q = hist_norm.cumsum() \n",
        "bins = np.arange (256) \n",
        "wb = 0 \n",
        "sumb = 0 \n",
        "varmax = 0 \n",
        "fn_min = np.inf \n",
        "thresh = -1 \n",
        "for i in range(0,255):\n",
        "  wb += hist[i] \n",
        "  wf = (img.shape[0]*img.shape[1]) - wb \n",
        "  sumb += (i*hist[i]) \n",
        "  mb = sumb / wb \n",
        "  mf = (sumb - sumb)/wf \n",
        "  betweenvar = wb * wf * (mb - mf) * (mb - mf) \n",
        "  if (betweenvar>varmax):\n",
        "    varmax = betweenvar\n",
        "    thresh = i \n",
        "x = (\"Otsu's Thresholding (v = \")+str(thresh)+\")\" \n",
        "ret, th1 = cv2.threshold(blur, 127, 255, cv2.THRESH_BINARY)\n",
        "ret, th2 = cv2.threshold (blur, thresh, 255, cv2. THRESH_BINARY)\n",
        "\n",
        "titles = ['Citra Asli', 'Global Thresholding (v = 127)', x] \n",
        "citra3 = [blur, th1, th2]\n",
        "\n",
        "plt. figure(figsize = (20,15)) \n",
        "for i in range(len(citra3)):\n",
        "    plt. subplot(1,3,i+1),plt.imshow(citra3[i], 'gray') \n",
        "    plt.title(titles[i])\n",
        "    plt.xticks([]),plt.yticks([]) \n",
        "plt.show()"
      ],
      "execution_count": 12,
      "outputs": [
        {
          "output_type": "error",
          "ename": "NameError",
          "evalue": "ignored",
          "traceback": [
            "\u001b[0;31m---------------------------------------------------------------------------\u001b[0m",
            "\u001b[0;31mNameError\u001b[0m                                 Traceback (most recent call last)",
            "\u001b[0;32m<ipython-input-12-460c099f15f9>\u001b[0m in \u001b[0;36m<module>\u001b[0;34m()\u001b[0m\n\u001b[1;32m      1\u001b[0m \u001b[0mfilename\u001b[0m \u001b[0;34m=\u001b[0m \u001b[0;34m(\u001b[0m\u001b[0;34m'/content/drive/MyDrive/PCVK/Images/lena_gs_lc2.jpg'\u001b[0m\u001b[0;34m)\u001b[0m\u001b[0;34m\u001b[0m\u001b[0;34m\u001b[0m\u001b[0m\n\u001b[0;32m----> 2\u001b[0;31m \u001b[0mimg\u001b[0m \u001b[0;34m=\u001b[0m \u001b[0mcv2\u001b[0m\u001b[0;34m.\u001b[0m\u001b[0mimread\u001b[0m\u001b[0;34m(\u001b[0m\u001b[0mfilename\u001b[0m\u001b[0;34m,\u001b[0m\u001b[0;36m0\u001b[0m\u001b[0;34m)\u001b[0m\u001b[0;34m\u001b[0m\u001b[0;34m\u001b[0m\u001b[0m\n\u001b[0m\u001b[1;32m      3\u001b[0m \u001b[0mblur\u001b[0m \u001b[0;34m=\u001b[0m \u001b[0mcv2\u001b[0m\u001b[0;34m.\u001b[0m \u001b[0mGaussianBlur\u001b[0m \u001b[0;34m(\u001b[0m\u001b[0mimg\u001b[0m\u001b[0;34m,\u001b[0m \u001b[0;34m(\u001b[0m\u001b[0;36m5\u001b[0m\u001b[0;34m,\u001b[0m\u001b[0;36m5\u001b[0m\u001b[0;34m)\u001b[0m\u001b[0;34m,\u001b[0m\u001b[0;36m0\u001b[0m\u001b[0;34m)\u001b[0m\u001b[0;34m\u001b[0m\u001b[0;34m\u001b[0m\u001b[0m\n\u001b[1;32m      4\u001b[0m \u001b[0;34m\u001b[0m\u001b[0m\n\u001b[1;32m      5\u001b[0m \u001b[0mhist\u001b[0m \u001b[0;34m=\u001b[0m \u001b[0mcv2\u001b[0m\u001b[0;34m.\u001b[0m\u001b[0mcalcHist\u001b[0m\u001b[0;34m(\u001b[0m\u001b[0;34m[\u001b[0m\u001b[0mblur\u001b[0m\u001b[0;34m]\u001b[0m\u001b[0;34m,\u001b[0m\u001b[0;34m[\u001b[0m\u001b[0;36m0\u001b[0m\u001b[0;34m]\u001b[0m\u001b[0;34m,\u001b[0m\u001b[0;32mNone\u001b[0m\u001b[0;34m,\u001b[0m\u001b[0;34m[\u001b[0m\u001b[0;36m256\u001b[0m\u001b[0;34m]\u001b[0m\u001b[0;34m,\u001b[0m \u001b[0;34m[\u001b[0m\u001b[0;36m0\u001b[0m\u001b[0;34m,\u001b[0m\u001b[0;36m256\u001b[0m\u001b[0;34m]\u001b[0m\u001b[0;34m)\u001b[0m\u001b[0;34m\u001b[0m\u001b[0;34m\u001b[0m\u001b[0m\n",
            "\u001b[0;31mNameError\u001b[0m: name 'cv2' is not defined"
          ]
        }
      ]
    },
    {
      "cell_type": "markdown",
      "metadata": {
        "id": "R6dlU4Y8DVvm"
      },
      "source": [
        "\n",
        "5. Buat histogram dari citra tersegmentasi, Histogram hanya pada foreground image saja. Gunakan image Lily atau Leaves yang sudah disediakan di folder images. Petunjuk:\n",
        "                a. anda dapat gunakan cv.calcHist untuk menampilkan\n",
        "\n",
        "                b. Buka link berikut https://opencvtutorial.readthedocs.io/en/latest/histogram/histogram.html\n",
        "\n",
        "                c. Dari link tersebut perhatikan bahwa cv.calcHist memiliki salah satu parameter yaitu mask. Jika diset None, maka keseluruhan image akan dihitung histogramnya. Jika kita tentukan mask, maka hanya bagian image yang dimasking warna putih yang akan dihitung histogramnya (dari contoh dibawah dinamakan dengan Citra Segment).  "
      ]
    },
    {
      "cell_type": "code",
      "metadata": {
        "colab": {
          "base_uri": "https://localhost:8080/",
          "height": 223
        },
        "id": "I3lxG4QWEauP",
        "outputId": "7e07c391-9dc4-445b-c1ea-8c4661436350"
      },
      "source": [
        "filename = ('/content/drive/MyDrive/PCVK/Images/lily.jpg')\n",
        "\n",
        "img = cv.imread(filename) \n",
        "img = cv.cvtColor(img,cv2.COLOR_BGR2RGB)\n",
        "img_gray = cv.cvtColor(img,cv2.COLOR_BGR2GRAY)\n",
        "\n",
        "ret3,mask = cv.threshold(img_gray,200,255,cv2.THRESH_BINARY_INV)\n",
        "\n",
        "plt.figure(figsize = (10,10)) \n",
        "plt.subplot(2,2,1),plt.imshow(img) \n",
        "plt.title('Citra Asli') \n",
        "plt.subplot(2,2,2),plt.imshow(mask, 'gray') \n",
        "plt.title('Citra Segment') \n",
        "color = ('r','g','b') \n",
        "for i,col in enumerate(color):\n",
        "    hist0 = cv.calcHist([img],[i],None,[256],[0,256]) \n",
        "    plt.subplot(2,2,3),plt.plot(hist0,color = col) \n",
        "    plt.title('Histogram dari keseluruhan citra') \n",
        "    hist1 = cv.calcHist([img],[i],mask,[256],[0,256]) \n",
        "    plt.subplot(2,2,4),plt.plot(hist1,color = col)\n",
        "    plt.title('Histogram dari keseluruhan citra') \n",
        "    hist1 = cv.calcHist([img],[i],mask,[256],[0,256]) \n",
        "    plt.subplot(2,2,4),plt.plot(hist1,color = col) \n",
        "    plt.title('Histogram hanya pada FG objek saja')\n",
        "    plt.xlim([0,256]) \n",
        "plt.show()"
      ],
      "execution_count": 17,
      "outputs": [
        {
          "output_type": "error",
          "ename": "NameError",
          "evalue": "ignored",
          "traceback": [
            "\u001b[0;31m---------------------------------------------------------------------------\u001b[0m",
            "\u001b[0;31mNameError\u001b[0m                                 Traceback (most recent call last)",
            "\u001b[0;32m<ipython-input-17-597c086a7e52>\u001b[0m in \u001b[0;36m<module>\u001b[0;34m()\u001b[0m\n\u001b[1;32m      2\u001b[0m \u001b[0;34m\u001b[0m\u001b[0m\n\u001b[1;32m      3\u001b[0m \u001b[0mimg\u001b[0m \u001b[0;34m=\u001b[0m \u001b[0mcv\u001b[0m\u001b[0;34m.\u001b[0m\u001b[0mimread\u001b[0m\u001b[0;34m(\u001b[0m\u001b[0mfilename\u001b[0m\u001b[0;34m)\u001b[0m\u001b[0;34m\u001b[0m\u001b[0;34m\u001b[0m\u001b[0m\n\u001b[0;32m----> 4\u001b[0;31m \u001b[0mimg\u001b[0m \u001b[0;34m=\u001b[0m \u001b[0mcv\u001b[0m\u001b[0;34m.\u001b[0m\u001b[0mcvtColor\u001b[0m\u001b[0;34m(\u001b[0m\u001b[0mimg\u001b[0m\u001b[0;34m,\u001b[0m\u001b[0mcv2\u001b[0m\u001b[0;34m.\u001b[0m\u001b[0mCOLOR_BGR2RGB\u001b[0m\u001b[0;34m)\u001b[0m\u001b[0;34m\u001b[0m\u001b[0;34m\u001b[0m\u001b[0m\n\u001b[0m\u001b[1;32m      5\u001b[0m \u001b[0mimg_gray\u001b[0m \u001b[0;34m=\u001b[0m \u001b[0mcv\u001b[0m\u001b[0;34m.\u001b[0m\u001b[0mcvtColor\u001b[0m\u001b[0;34m(\u001b[0m\u001b[0mimg\u001b[0m\u001b[0;34m,\u001b[0m\u001b[0mcv2\u001b[0m\u001b[0;34m.\u001b[0m\u001b[0mCOLOR_BGR2GRAY\u001b[0m\u001b[0;34m)\u001b[0m\u001b[0;34m\u001b[0m\u001b[0;34m\u001b[0m\u001b[0m\n\u001b[1;32m      6\u001b[0m \u001b[0;34m\u001b[0m\u001b[0m\n",
            "\u001b[0;31mNameError\u001b[0m: name 'cv2' is not defined"
          ]
        }
      ]
    }
  ]
}